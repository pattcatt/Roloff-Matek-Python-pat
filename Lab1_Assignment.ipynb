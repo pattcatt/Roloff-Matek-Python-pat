{
 "cells": [
  {
   "cell_type": "markdown",
   "id": "1dc95ef7",
   "metadata": {},
   "source": [
    "# LAB ASSIGNMENT MACHINE DESIGN WINTER SEMESTER 2025/2026\n",
    "Student\n",
    "1. Danang Wicaksono\n",
    "2. David Jose\n",
    "3. Patryk Bielewicz"
   ]
  },
  {
   "cell_type": "markdown",
   "id": "6fdf2767",
   "metadata": {},
   "source": [
    "# INTRODUCTION\n",
    "*Our group in machine design class is assigned to design a chain transport system. This system is used to move coal carts from a ship to the factory in the EU economic area. A motor is used to drive the system where its power is transmitted through a pulley-belt and a single step gear box.*<br> \n",
    "*Figure 1 below gives the system overview.*"
   ]
  },
  {
   "cell_type": "markdown",
   "id": "e56a125c",
   "metadata": {},
   "source": [
    "![image of system schematic](./images/fig1.jpg)\n",
    "\n",
    "Figure 1."
   ]
  },
  {
   "cell_type": "markdown",
   "id": "2f97eb28",
   "metadata": {},
   "source": [
    "# GENERAL DESCRIPTION\n",
    "*The motor is connected to a pulley-belt system where it is attached to a single step gear box. The gearbox will be connected to a spur gear through a coupling, and it will move the chain conveyor. The schematic of the system is shown in figure 2 below.*\n",
    "![image of system schematic](./images/fig2.jpg)\n",
    "\n",
    "Figure 2.\n",
    "\n",
    "*Our team needs to design the component for gear box and pulley which consist of shaft, gear, belt system and bearing selection. The components must be designed to be able to meet the system specific design requirement.*"
   ]
  },
  {
   "cell_type": "markdown",
   "id": "b5a9df94",
   "metadata": {},
   "source": [
    "## System Requirement <br>\n",
    "1. The speed of the cart is 15.5 km/h \n",
    "2. The output power is 6000 watt. \n",
    "3. The spur gear has a diameter of 500 mm. \n",
    "4. Life expectancy is 10 years. \n",
    "5. It operates 20 hours per day for 250 days/year "
   ]
  },
  {
   "cell_type": "markdown",
   "id": "28f19a49",
   "metadata": {},
   "source": [
    "# ASSUMPTION\n",
    "*The coupling is excluded from the calculation therefore the torque delivered from gear box to spur gear is assumed to be the same.*"
   ]
  },
  {
   "cell_type": "markdown",
   "id": "ccf50761",
   "metadata": {},
   "source": [
    "# COMPONENT REQUIREMENT\n",
    "## Motor requirement <br>\n",
    "1. The motor is an asynchronous motor with fixed speed of 1500 RPM. \n",
    "## The Belt System <br>\n",
    "1. It must be a thin profile V-Belt \n",
    "2. Ratio of belt and gear $i_{r} \\over i_{twk}$ = 3/5  \n",
    "## The Gear Box \n",
    "1. The shaft must be in one horizontal plane.  \n",
    "2. The teeth is straight cut ($\\beta$ = 0).  \n",
    "3. The teeth manufacturing quality is according to ISO7 \n",
    "4. The number of teeth on pinion is between 19-24. The number of teeth on the gear is selected to avoid the common denominator. \n",
    "5. The material for the pinion and gear is 34CrMo4(DIN 743-3).  \n",
    "6. The pinion has hardness of 56 Rockwell and the gear is 54 Rockwell. \n",
    "## The Bearing\n",
    "1. The bearing is selected from the available manufacturers \n",
    "## The shaft \n",
    "1. Shaft material is 38Cr2(DIN 743-3). \n",
    "2. The play between moving parts is 5 mm. \n",
    "3. The shaft connection to pinion is press fit \n",
    "4. The shaft connection to gear is key-connection. \n",
    "5. The connection of the pulley and the shaft is taper-lock bushing "
   ]
  },
  {
   "cell_type": "markdown",
   "id": "19312c24",
   "metadata": {},
   "source": [
    "# RESEARCH TOPIC\n",
    "Based on the given information we will research the following topics\n",
    "1.\tMotor Selection\n",
    "2.\tPulley Selection\n",
    "3.\tGear Selection\n",
    "4.\tShaft General Sizing\n",
    "\n",
    "<br>The motor selection can be done according to the table 16.21 after calculating the motor output by selecting the operating condition (KA) from table 3-5 and assuming the efficiency of the belt system and gear box.\n",
    "The pulley diameter can be selected by selecting the smallest pulley according to table 16-7 following the calculation of the motor power.\n",
    "The gear teeth and pulley diameter can be done by calculating the belt ratio over the gear ratio. \n",
    "Lastly, we will estimate the general shaft diameter in gear box by calculating the force and torque that is transferred through the belt system and gear box.\n"
   ]
  },
  {
   "cell_type": "markdown",
   "id": "29cb0c97",
   "metadata": {},
   "source": [
    "# SOLUTION\n",
    "## MOTOR SELECTION\n",
    "To select a motor, we must define its power rating. The power rating in this system is dependable on the efficiency of the motor, the belt system and the gear box, also the operating factor which is known as Ka which depends on its operating condition. \n",
    "This gives us formula as follows to determine the motor power rating.<br>\n",
    "* $P_i \\cdot \\eta total = P_o \\cdot K_A$\n",
    "* $\\eta_total = \\eta_b \\cdot \\eta_g$ <br>\n",
    "The efficiency of the V-belt system is taken conservatively at 80%, major commercial V-Belt manufacturer claims its product maximum efficiency is 97%, and the efficiency of the gearbox with spur gear is 99% (RM CH20). This makes the total efficiency η total = 77.6%.\n",
    "The system is operated with electric motor, 20 hours per day for 250 days per year which gives its KA according to the Figure 3 (RM Table 3-5), $K_A = 1.4$.\n",
    "\n",
    "The system is operated with electric motor, 20 hours per day for 250 days per year which gives its KA according to the RM Table 3-5 is 1.4. The figure below give the overview of steps taken to obtain the Ka Value\n",
    "\n",
    "![image of chain](./tables/RM35.jpg)\n",
    "\n",
    "With total efficiency and the $K_A$ value is known then the $P_i$ motor power input is found with value 10606 watt. From the motor selection table 16.21 then it is decided to select a motor with a power rating of **P_motor = 11 kW**."
   ]
  },
  {
   "cell_type": "code",
   "execution_count": 5,
   "id": "d70c059e",
   "metadata": {},
   "outputs": [],
   "source": [
    "# import statements\n",
    "import sympy as sp\n",
    "import numpy as np\n",
    "import matplotlib.pyplot as plt\n",
    "\n",
    "import MechDesign.Helpers as HM\n",
    "\n",
    "from MechDesign.Units.Units import m_, mm_, kg_, s_, N_, rpm_, W_, deg_\n",
    "import MechDesign.Units.UnitMethods as UM\n",
    "\n",
    "import MechDesign.RnM as RnM"
   ]
  },
  {
   "cell_type": "code",
   "execution_count": 6,
   "id": "cd6aea5d",
   "metadata": {},
   "outputs": [
    {
     "ename": "AttributeError",
     "evalue": "'Chain' object has no attribute 'P_o' and no __dict__ for setting new attributes",
     "output_type": "error",
     "traceback": [
      "\u001b[31m---------------------------------------------------------------------------\u001b[39m",
      "\u001b[31mAttributeError\u001b[39m                            Traceback (most recent call last)",
      "\u001b[36mCell\u001b[39m\u001b[36m \u001b[39m\u001b[32mIn[6]\u001b[39m\u001b[32m, line 1\u001b[39m\n\u001b[32m----> \u001b[39m\u001b[32m1\u001b[39m \u001b[43mCH\u001b[49m\u001b[43m.\u001b[49m\u001b[43mP_o\u001b[49m = \u001b[32m6000\u001b[39m*W_\n\u001b[32m      2\u001b[39m CH.K_A = \u001b[32m1.4\u001b[39m\n\u001b[32m      3\u001b[39m CH.eta_belt = \u001b[32m0.8\u001b[39m\n",
      "\u001b[31mAttributeError\u001b[39m: 'Chain' object has no attribute 'P_o' and no __dict__ for setting new attributes"
     ]
    }
   ],
   "source": [
    "CH.P_o = 6000*W_\n",
    "CH.K_A = 1.4\n",
    "CH.eta_belt = 0.8\n",
    "CH.eta_gear = 0.99\n",
    "\n",
    "P_i = P_o*K_A/eta_belt*eta_gear\n",
    "t=HM.EqPrint('P input',P_i)"
   ]
  },
  {
   "cell_type": "markdown",
   "id": "c8e12b84",
   "metadata": {},
   "source": [
    "<br>Information\n",
    "* $P_{o} = 6000 {W} $\n",
    "* $N_{m} = 1500 {RPM} \\approx 157 {rad/s}$ \n",
    "* $V_{chain} = 15.5 {km/h} \\approx 4.31 {m/s}$ <br>\n",
    "From Table 1-1 with material of the shaft 38CR2 (DIN743-3). The following data is obtained<br>\n",
    "* $\\sigma_{b_W} = 400 {N \\over mm^2} $\n",
    "* $\\tau_{t_W} = 240 {N \\over mm^2} $\n",
    "* $\\eta_{t_W} = 240 {N \\over mm^2} $"
   ]
  }
 ],
 "metadata": {
  "kernelspec": {
   "display_name": "Python 3",
   "language": "python",
   "name": "python3"
  },
  "language_info": {
   "codemirror_mode": {
    "name": "ipython",
    "version": 3
   },
   "file_extension": ".py",
   "mimetype": "text/x-python",
   "name": "python",
   "nbconvert_exporter": "python",
   "pygments_lexer": "ipython3",
   "version": "3.13.7"
  }
 },
 "nbformat": 4,
 "nbformat_minor": 5
}
